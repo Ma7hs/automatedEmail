{
 "cells": [
  {
   "cell_type": "code",
   "execution_count": 1,
   "id": "051ce692",
   "metadata": {},
   "outputs": [
    {
     "name": "stdout",
     "output_type": "stream",
     "text": [
      "Requirement already satisfied: yfinance in c:\\users\\22282099\\appdata\\local\\programs\\python\\python310\\lib\\site-packages (0.1.87)\n",
      "Requirement already satisfied: lxml>=4.5.1 in c:\\users\\22282099\\appdata\\local\\programs\\python\\python310\\lib\\site-packages (from yfinance) (4.9.1)\n",
      "Requirement already satisfied: pandas>=0.24.0 in c:\\users\\22282099\\appdata\\local\\programs\\python\\python310\\lib\\site-packages (from yfinance) (1.5.2)\n",
      "Requirement already satisfied: appdirs>=1.4.4 in c:\\users\\22282099\\appdata\\local\\programs\\python\\python310\\lib\\site-packages (from yfinance) (1.4.4)\n",
      "Requirement already satisfied: requests>=2.26 in c:\\users\\22282099\\appdata\\local\\programs\\python\\python310\\lib\\site-packages (from yfinance) (2.28.1)\n",
      "Requirement already satisfied: numpy>=1.15 in c:\\users\\22282099\\appdata\\local\\programs\\python\\python310\\lib\\site-packages (from yfinance) (1.23.5)\n",
      "Requirement already satisfied: multitasking>=0.0.7 in c:\\users\\22282099\\appdata\\local\\programs\\python\\python310\\lib\\site-packages (from yfinance) (0.0.11)\n",
      "Requirement already satisfied: python-dateutil>=2.8.1 in c:\\users\\22282099\\appdata\\local\\programs\\python\\python310\\lib\\site-packages (from pandas>=0.24.0->yfinance) (2.8.2)\n",
      "Requirement already satisfied: pytz>=2020.1 in c:\\users\\22282099\\appdata\\local\\programs\\python\\python310\\lib\\site-packages (from pandas>=0.24.0->yfinance) (2022.6)\n",
      "Requirement already satisfied: charset-normalizer<3,>=2 in c:\\users\\22282099\\appdata\\local\\programs\\python\\python310\\lib\\site-packages (from requests>=2.26->yfinance) (2.1.1)\n",
      "Requirement already satisfied: idna<4,>=2.5 in c:\\users\\22282099\\appdata\\local\\programs\\python\\python310\\lib\\site-packages (from requests>=2.26->yfinance) (3.4)\n",
      "Requirement already satisfied: certifi>=2017.4.17 in c:\\users\\22282099\\appdata\\local\\programs\\python\\python310\\lib\\site-packages (from requests>=2.26->yfinance) (2022.9.24)\n",
      "Requirement already satisfied: urllib3<1.27,>=1.21.1 in c:\\users\\22282099\\appdata\\local\\programs\\python\\python310\\lib\\site-packages (from requests>=2.26->yfinance) (1.26.12)\n",
      "Requirement already satisfied: six>=1.5 in c:\\users\\22282099\\appdata\\local\\programs\\python\\python310\\lib\\site-packages (from python-dateutil>=2.8.1->pandas>=0.24.0->yfinance) (1.16.0)\n"
     ]
    }
   ],
   "source": [
    "!pip install yfinance"
   ]
  },
  {
   "cell_type": "code",
   "execution_count": 2,
   "id": "7aec60c7",
   "metadata": {},
   "outputs": [
    {
     "name": "stdout",
     "output_type": "stream",
     "text": [
      "Requirement already satisfied: pyautogui in c:\\users\\22282099\\appdata\\local\\programs\\python\\python310\\lib\\site-packages (0.9.53)\n",
      "Requirement already satisfied: pymsgbox in c:\\users\\22282099\\appdata\\local\\programs\\python\\python310\\lib\\site-packages (from pyautogui) (1.0.9)\n",
      "Requirement already satisfied: PyTweening>=1.0.1 in c:\\users\\22282099\\appdata\\local\\programs\\python\\python310\\lib\\site-packages (from pyautogui) (1.0.4)\n",
      "Requirement already satisfied: pyscreeze>=0.1.21 in c:\\users\\22282099\\appdata\\local\\programs\\python\\python310\\lib\\site-packages (from pyautogui) (0.1.28)\n",
      "Requirement already satisfied: pygetwindow>=0.0.5 in c:\\users\\22282099\\appdata\\local\\programs\\python\\python310\\lib\\site-packages (from pyautogui) (0.0.9)\n",
      "Requirement already satisfied: mouseinfo in c:\\users\\22282099\\appdata\\local\\programs\\python\\python310\\lib\\site-packages (from pyautogui) (0.1.3)\n",
      "Requirement already satisfied: pyrect in c:\\users\\22282099\\appdata\\local\\programs\\python\\python310\\lib\\site-packages (from pygetwindow>=0.0.5->pyautogui) (0.2.0)\n",
      "Requirement already satisfied: pyperclip in c:\\users\\22282099\\appdata\\local\\programs\\python\\python310\\lib\\site-packages (from mouseinfo->pyautogui) (1.8.2)\n"
     ]
    }
   ],
   "source": [
    "!pip install pyautogui"
   ]
  },
  {
   "cell_type": "code",
   "execution_count": 3,
   "id": "70a9a320",
   "metadata": {},
   "outputs": [
    {
     "name": "stdout",
     "output_type": "stream",
     "text": [
      "Requirement already satisfied: pyperClip in c:\\users\\22282099\\appdata\\local\\programs\\python\\python310\\lib\\site-packages (1.8.2)\n"
     ]
    }
   ],
   "source": [
    "!pip install pyperClip"
   ]
  },
  {
   "cell_type": "code",
   "execution_count": null,
   "id": "23ad399f",
   "metadata": {},
   "outputs": [],
   "source": [
    "import time\n",
    "import pyautogui\n",
    "\n",
    "time.sleep(5)\n",
    "pyautogui.position()"
   ]
  },
  {
   "cell_type": "code",
   "execution_count": 3,
   "id": "bb41e1ac",
   "metadata": {},
   "outputs": [
    {
     "name": "stdout",
     "output_type": "stream",
     "text": [
      "Digite seu nome: Matheus Siqueira\n",
      "Digite o email para enviar o relatório: Matheus.siqueira100@gmail.com\n",
      "Digite o ticker da empresa baseado no Yahoo Finance: ABEV3.SA\n"
     ]
    },
    {
     "ename": "NameError",
     "evalue": "name 'watingTime' is not defined",
     "output_type": "error",
     "traceback": [
      "\u001b[1;31m---------------------------------------------------------------------------\u001b[0m",
      "\u001b[1;31mNameError\u001b[0m                                 Traceback (most recent call last)",
      "Cell \u001b[1;32mIn[3], line 22\u001b[0m\n\u001b[0;32m     19\u001b[0m currentClose \u001b[38;5;241m=\u001b[39m gettingClose[\u001b[38;5;241m-\u001b[39m\u001b[38;5;241m1\u001b[39m]\n\u001b[0;32m     20\u001b[0m today \u001b[38;5;241m=\u001b[39m datetime\u001b[38;5;241m.\u001b[39mdate\u001b[38;5;241m.\u001b[39mtoday()\n\u001b[1;32m---> 22\u001b[0m \u001b[43mwatingTime\u001b[49m(\u001b[38;5;241m7\u001b[39m)\n\u001b[0;32m     23\u001b[0m pyautogui\u001b[38;5;241m.\u001b[39mhotkey(\u001b[38;5;124m\"\u001b[39m\u001b[38;5;124mctrl\u001b[39m\u001b[38;5;124m\"\u001b[39m,\u001b[38;5;124m\"\u001b[39m\u001b[38;5;124mt\u001b[39m\u001b[38;5;124m\"\u001b[39m)\n\u001b[0;32m     24\u001b[0m pyperclip\u001b[38;5;241m.\u001b[39mcopy(\u001b[38;5;124m\"\u001b[39m\u001b[38;5;124mwww.gmail.com\u001b[39m\u001b[38;5;124m\"\u001b[39m)\n",
      "\u001b[1;31mNameError\u001b[0m: name 'watingTime' is not defined"
     ]
    }
   ],
   "source": [
    "import yfinance\n",
    "import pyautogui\n",
    "import pyperclip\n",
    "import time\n",
    "import datetime\n",
    "\n",
    "def waitingTime(int):\n",
    "    time.sleep(int)\n",
    "    waitingTime()\n",
    "\n",
    "getClient = input(\"Digite seu nome: \")\n",
    "getEmail = input(\"Digite o email para enviar o relatório: \")\n",
    "getTicker = input(\"Digite o ticker da empresa baseado no Yahoo Finance: \")\n",
    "dateTicker = yfinance.Ticker(getTicker).history(\"6mo\")\n",
    "gettingClose = dateTicker.Close\n",
    "\n",
    "maxClose = gettingClose.max()\n",
    "minClose = gettingClose.min()\n",
    "currentClose = gettingClose[-1]\n",
    "today = datetime.date.today()\n",
    "\n",
    "time.sleep(3)\n",
    "pyautogui.hotkey(\"ctrl\",\"t\")\n",
    "pyperclip.copy(\"www.gmail.com\")\n",
    "pyautogui.hotkey(\"ctrl\",\"v\")\n",
    "pyautogui.hotkey(\"enter\")\n",
    "time.sleep(7)\n",
    "pyautogui.click(x=72, y=201)\n",
    "time.sleep(4)\n",
    "pyperclip.copy(getEmail)\n",
    "pyautogui.hotkey(\"ctrl\",\"v\")\n",
    "pyautogui.hotkey(\"tab\")\n",
    "time.sleep(2)\n",
    "pyperclip.copy(f\"Análise das ações diárias da empresa {getTicker}\")\n",
    "pyautogui.hotkey(\"ctrl\",\"v\")\n",
    "pyautogui.hotkey(\"tab\")\n",
    "time.sleep(2)\n",
    "pyperclip.copy(f\"\"\"\n",
    "\n",
    "Bom dia {getClient}!\n",
    "\n",
    "Segue as análises da empresa {getTicker}!\n",
    "\n",
    "Atualmente a cotação da empresa no dia {today} é de R${round(currentClose, 2)}\n",
    "\n",
    "O fechamento mínimo foi de: R${round(minClose, 2)}\n",
    "\n",
    "O fechamento máximo foi de: R${round(maxClose, 2)}\n",
    "\n",
    "Para qualquer dúvida sobre nosso sistema de análises, basta enviar um email para nosso suporte!\n",
    "\n",
    "Atenciosamente,\n",
    "Matheus Siqueira!\n",
    "\n",
    "\"\"\")\n",
    "pyautogui.hotkey(\"ctrl\",\"v\")\n",
    "pyautogui.hotkey(\"tab\")"
   ]
  },
  {
   "cell_type": "code",
   "execution_count": null,
   "id": "6c51209e",
   "metadata": {},
   "outputs": [],
   "source": []
  },
  {
   "cell_type": "code",
   "execution_count": null,
   "id": "61cbde4d",
   "metadata": {},
   "outputs": [],
   "source": []
  }
 ],
 "metadata": {
  "kernelspec": {
   "display_name": "Python 3 (ipykernel)",
   "language": "python",
   "name": "python3"
  },
  "language_info": {
   "codemirror_mode": {
    "name": "ipython",
    "version": 3
   },
   "file_extension": ".py",
   "mimetype": "text/x-python",
   "name": "python",
   "nbconvert_exporter": "python",
   "pygments_lexer": "ipython3",
   "version": "3.10.8"
  }
 },
 "nbformat": 4,
 "nbformat_minor": 5
}
